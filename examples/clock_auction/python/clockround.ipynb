{
 "cells": [
  {
   "cell_type": "code",
   "execution_count": 1,
   "metadata": {},
   "outputs": [],
   "source": [
    "import numpy as np\n",
    "import random as rnd"
   ]
  },
  {
   "cell_type": "code",
   "execution_count": 2,
   "metadata": {},
   "outputs": [],
   "source": [
    "# Simplifying Assumptions\n",
    "# Clock Phase:\n",
    "# \tSimple Bids Only - No All or Nothing, AON+ with backstop price, or Switch Bids\n",
    "# \tOnly one category of license - encumbered licenses will be handled by simple POP % discounting\n",
    "# \tAll Bidders can bid on All Licenses, and they all want to cover all territories\n",
    "# \tNo Spectrum Reserve\n",
    "# \tNo Credits\n",
    "# \tSingle Clock Stage with single Final Stage Rule\n",
    "# \tNo Missing Bids\n",
    "# \tSimplified Eligibility: 1BU=1License\n",
    "\n",
    "# Assignment Phase:\n",
    "# \tNo parcel grouping\n",
    "# \tNo concern for contiguity of assigned blocks (but assume that there would be contiguity)"
   ]
  },
  {
   "cell_type": "code",
   "execution_count": 73,
   "metadata": {},
   "outputs": [],
   "source": [
    "# In a real round, all of the input in this cell would be read in from the blockchain\n",
    "# This would only be done after a check to make sure that the round had been closed\n",
    "\n",
    "# Processed bids from the previous round\n",
    "processed=[[[6,10000],[6,6000],[5,6000],[3,4000]],\\\n",
    "          [[5,10000],[5,6000],[4,6000],[4,4000]],\\\n",
    "          [[3,10000],[3,6000],[7,6000],[6,4000]]]\n",
    "\n",
    "# New bids this round\n",
    "bidinput=[[[5,12000],[3,7200],[5,7200],[3,4800]],\\\n",
    "          [[5,11000],[3,7200],[4,7200],[3,4800]],\\\n",
    "          [[3,11000],[3,6500],[5,6500],[5,4500]]]\n",
    "\n",
    "round=2\n",
    "numbidders=3\n",
    "numparcels=4\n",
    "\n",
    "elig_percent=.9\n",
    "clockincrease=.2\n",
    "\n",
    "eligibility=[20,20,20]\n",
    "bidders=['A-Telecom','B-Net','C-Mobile']\n",
    "parcels=['Elbograd','Mudberg','Deserton','Phlimsk']\n",
    "minimums=[10000,6000,6000,4000]\n",
    "supply=[10,10,9,6]"
   ]
  },
  {
   "cell_type": "code",
   "execution_count": 74,
   "metadata": {},
   "outputs": [
    {
     "name": "stdout",
     "output_type": "stream",
     "text": [
      "0 0 6\n",
      "0 1 5\n",
      "0 2 3\n",
      "1 0 6\n",
      "1 1 5\n",
      "1 2 3\n",
      "2 0 5\n",
      "2 1 4\n",
      "2 2 7\n",
      "3 0 3\n",
      "3 1 4\n",
      "3 2 6\n",
      "[14, 14, 16, 13]\n",
      "[4, 4, 7, 7]\n"
     ]
    }
   ],
   "source": [
    "#calculate demand per parcel from last round, and excess demand\n",
    "\n",
    "demand=[0,0,0,0]\n",
    "for n in range(numparcels):\n",
    "    for m in range(numbidders):\n",
    "        print(n, m, processed[m][n][0])\n",
    "        demand[n] += processed[m][n][0]\n",
    "        \n",
    "print(demand)\n",
    "\n",
    "excess = [d-supply[idx] for idx,d in enumerate(demand)]\n",
    "print(excess)"
   ]
  },
  {
   "cell_type": "code",
   "execution_count": 75,
   "metadata": {},
   "outputs": [
    {
     "data": {
      "text/plain": [
       "[[5, 11000], [3, 7200], [4, 7200], [3, 4800]]"
      ]
     },
     "execution_count": 75,
     "metadata": {},
     "output_type": "execute_result"
    }
   ],
   "source": [
    "bidinput[1]  # Bid input from bidder 1 (B-net) for this round"
   ]
  },
  {
   "cell_type": "code",
   "execution_count": 76,
   "metadata": {},
   "outputs": [
    {
     "data": {
      "text/plain": [
       "[4, 7200]"
      ]
     },
     "execution_count": 76,
     "metadata": {},
     "output_type": "execute_result"
    }
   ],
   "source": [
    "bidinput[1][2]  # Bid input from bidder 1 (B-Net) on Parcel 2 (Deserton) for this round"
   ]
  },
  {
   "cell_type": "code",
   "execution_count": 77,
   "metadata": {},
   "outputs": [
    {
     "name": "stdout",
     "output_type": "stream",
     "text": [
      "4\n",
      "7200\n"
     ]
    }
   ],
   "source": [
    "print(bidinput[1][2][0])  # Number of Deserton licenses B-Net is bidding for in this round\n",
    "print(bidinput[1][2][1])  # Bid price B-Net is offering for these licenses in this round"
   ]
  },
  {
   "cell_type": "code",
   "execution_count": 78,
   "metadata": {},
   "outputs": [],
   "source": [
    "if round==1:\n",
    "    clock=minimums\n",
    "else:\n",
    "    clock = [int(x * (1+clockincrease)) for x in minimums]"
   ]
  },
  {
   "cell_type": "code",
   "execution_count": 79,
   "metadata": {},
   "outputs": [
    {
     "data": {
      "text/plain": [
       "[12000, 7200, 7200, 4800]"
      ]
     },
     "execution_count": 79,
     "metadata": {},
     "output_type": "execute_result"
    }
   ],
   "source": [
    "clock"
   ]
  },
  {
   "cell_type": "code",
   "execution_count": 80,
   "metadata": {},
   "outputs": [],
   "source": [
    "# Insert some code to make sure none of the bids are outside the range from minimums to clock"
   ]
  },
  {
   "cell_type": "code",
   "execution_count": 81,
   "metadata": {},
   "outputs": [
    {
     "data": {
      "text/plain": [
       "[[5, 12000], [3, 7200], [5, 7200], [3, 4800]]"
      ]
     },
     "execution_count": 81,
     "metadata": {},
     "output_type": "execute_result"
    }
   ],
   "source": [
    "bidinput[0]"
   ]
  },
  {
   "cell_type": "code",
   "execution_count": 82,
   "metadata": {},
   "outputs": [
    {
     "name": "stdout",
     "output_type": "stream",
     "text": [
      "10000 12000 12000 2000 2000 1.0\n",
      "6000 7200 7200 1200 1200 1.0\n",
      "6000 7200 7200 1200 1200 1.0\n",
      "4000 4800 4800 800 800 1.0\n",
      "10000 11000 12000 1000 2000 0.5\n",
      "6000 7200 7200 1200 1200 1.0\n",
      "6000 7200 7200 1200 1200 1.0\n",
      "4000 4800 4800 800 800 1.0\n",
      "10000 11000 12000 1000 2000 0.5\n",
      "6000 6500 7200 500 1200 0.4166666666666667\n",
      "6000 6500 7200 500 1200 0.4166666666666667\n",
      "4000 4500 4800 500 800 0.625\n"
     ]
    }
   ],
   "source": [
    "#Calculate pricepoints\n",
    "ppoints = [[0,0,0,0],[0,0,0,0],[0,0,0,0]]\n",
    "for b in range(numbidders):\n",
    "    for p in range(numparcels):\n",
    "        print(processed[b][p][1], bidinput[b][p][1], clock[p], \\\n",
    "              bidinput[b][p][1]-processed[b][p][1] , clock[p]-processed[b][p][1], \\\n",
    "              (bidinput[b][p][1]-processed[b][p][1])/(clock[p]-processed[b][p][1]))\n",
    "        ppoints[b][p]=(bidinput[b][p][1]-processed[b][p][1])/(clock[p]-processed[b][p][1])"
   ]
  },
  {
   "cell_type": "code",
   "execution_count": 83,
   "metadata": {},
   "outputs": [
    {
     "data": {
      "text/plain": [
       "[[1.0, 1.0, 1.0, 1.0],\n",
       " [0.5, 1.0, 1.0, 1.0],\n",
       " [0.5, 0.4166666666666667, 0.4166666666666667, 0.625]]"
      ]
     },
     "execution_count": 83,
     "metadata": {},
     "output_type": "execute_result"
    }
   ],
   "source": [
    "ppoints"
   ]
  },
  {
   "cell_type": "code",
   "execution_count": 84,
   "metadata": {},
   "outputs": [],
   "source": [
    "queue=[]  # create a queue of bids to be processed "
   ]
  },
  {
   "cell_type": "code",
   "execution_count": 85,
   "metadata": {},
   "outputs": [],
   "source": [
    "for b in range(numbidders):\n",
    "    for p in range(numparcels):\n",
    "        queue.append([ppoints[b][p], rnd.random(), b, eligibility[b], p, bidinput[b][p]])"
   ]
  },
  {
   "cell_type": "code",
   "execution_count": 86,
   "metadata": {},
   "outputs": [],
   "source": [
    "queue.sort()     # sort the bid queue by pricepoint\n",
    "\n",
    "#in a fully realized auction there would likely be a separate queue per parcel, but this way gives the same results"
   ]
  },
  {
   "cell_type": "code",
   "execution_count": 87,
   "metadata": {
    "scrolled": false
   },
   "outputs": [
    {
     "data": {
      "text/plain": [
       "[[0.4166666666666667, 0.7219035916536067, 2, 20, 2, [5, 6500]],\n",
       " [0.4166666666666667, 0.9291134574363628, 2, 20, 1, [3, 6500]],\n",
       " [0.5, 0.5533598603837604, 2, 20, 0, [3, 11000]],\n",
       " [0.5, 0.7237942850622697, 1, 20, 0, [5, 11000]],\n",
       " [0.625, 0.646930178665225, 2, 20, 3, [5, 4500]],\n",
       " [1.0, 0.08224692728308902, 1, 20, 2, [4, 7200]],\n",
       " [1.0, 0.0999077225605085, 1, 20, 3, [3, 4800]],\n",
       " [1.0, 0.1141673223077545, 0, 20, 1, [3, 7200]],\n",
       " [1.0, 0.4813049234428398, 0, 20, 2, [5, 7200]],\n",
       " [1.0, 0.6865190234910022, 1, 20, 1, [3, 7200]],\n",
       " [1.0, 0.9636380478578468, 0, 20, 0, [5, 12000]],\n",
       " [1.0, 0.9878193907658507, 0, 20, 3, [3, 4800]]]"
      ]
     },
     "execution_count": 87,
     "metadata": {},
     "output_type": "execute_result"
    }
   ],
   "source": [
    "queue"
   ]
  },
  {
   "cell_type": "code",
   "execution_count": 88,
   "metadata": {
    "scrolled": false
   },
   "outputs": [
    {
     "name": "stdout",
     "output_type": "stream",
     "text": [
      "Starting queue pass. Eligibility [20, 20, 20] [20, 20, 20]\n",
      "Queue length 12\n",
      "\n",
      "bdr 2 pcl 2 procqty 7 newqty 5 price 6500\n",
      "reduction in demand is covered by excess demand: bid will be fully processed\n",
      "\n",
      "\n",
      "bdr 2 pcl 1 procqty 3 newqty 3 price 6500\n",
      "no change in demand for this parcel by this bidder: will be fully processed\n",
      "\n",
      "\n",
      "bdr 2 pcl 0 procqty 3 newqty 3 price 11000\n",
      "no change in demand for this parcel by this bidder: will be fully processed\n",
      "\n",
      "\n",
      "bdr 1 pcl 0 procqty 5 newqty 5 price 11000\n",
      "no change in demand for this parcel by this bidder: will be fully processed\n",
      "\n",
      "\n",
      "bdr 2 pcl 3 procqty 6 newqty 5 price 4500\n",
      "reduction in demand is covered by excess demand: bid will be fully processed\n",
      "\n",
      "\n",
      "bdr 1 pcl 2 procqty 4 newqty 4 price 7200\n",
      "no change in demand for this parcel by this bidder: will be fully processed\n",
      "\n",
      "\n",
      "bdr 1 pcl 3 procqty 4 newqty 3 price 4800\n",
      "reduction in demand is covered by excess demand: bid will be fully processed\n",
      "\n",
      "\n",
      "bdr 0 pcl 1 procqty 6 newqty 3 price 7200\n",
      "reduction in demand is covered by excess demand: bid will be fully processed\n",
      "\n",
      "\n",
      "bdr 0 pcl 2 procqty 5 newqty 5 price 7200\n",
      "no change in demand for this parcel by this bidder: will be fully processed\n",
      "\n",
      "\n",
      "bdr 1 pcl 1 procqty 5 newqty 3 price 7200\n",
      "reduction in demand is not fully covered by excess demand: bid will be partially processed\n",
      "\n",
      "\n",
      "bdr 0 pcl 0 procqty 6 newqty 5 price 12000\n",
      "reduction in demand is covered by excess demand: bid will be fully processed\n",
      "\n",
      "\n",
      "bdr 0 pcl 3 procqty 3 newqty 3 price 4800\n",
      "no change in demand for this parcel by this bidder: will be fully processed\n",
      "\n",
      "End of Queue Pass. Closing prices [12000, 7200, 7200, 4800] Demand [14, 14, 16, 13] Bids processed 12\n",
      "\n",
      "Starting queue pass. Eligibility [20, 20, 20] [4, 7, 4]\n",
      "Queue length 1\n",
      "\n",
      "bdr 1 pcl 1 procqty 5 newqty 3 price 7200\n",
      "reduction in demand with no excess demand: bid will not be processed\n",
      "\n",
      "End of Queue Pass. Closing prices [12000, 7200, 7200, 4800] Demand [14, 14, 16, 13] Bids processed 0\n",
      "\n"
     ]
    }
   ],
   "source": [
    "##queue format:  0=pricepoint, 1=bidder, 2=eligibility, 3=parcel, 4[0]=bid qty, 4[1]=bid price\n",
    "\n",
    "closing=minimums\n",
    "new_elig=[e for e in eligibility]    \n",
    "new_demand=[0,0,0,0]\n",
    "newq=[]\n",
    "\n",
    "# Add logic to run this queue loop until the newq is empty or a full pass runs with nothing processed\n",
    "\n",
    "numprocessed = 1\n",
    "\n",
    "while (len(queue) > 0 and numprocessed > 0):\n",
    "    \n",
    "    print('Starting queue pass. Eligibility', eligibility, new_elig)\n",
    "    numprocessed=0\n",
    "    print('Queue length', len(queue))    \n",
    "    \n",
    "    for q in queue:\n",
    "        \n",
    "        ppt=q[0]\n",
    "        bdr=q[2]\n",
    "        elg=q[3]\n",
    "        pcl=q[4]\n",
    "        qty=q[5][0]\n",
    "        prc=q[5][1]\n",
    "    \n",
    "        \n",
    "        print()\n",
    "        \n",
    "        print('bdr', bdr, 'pcl', pcl, 'procqty', processed[bdr][pcl][0],'newqty', qty, 'price',prc )\n",
    "    \n",
    "        # First check that the bid quantity is not greater than the bidder's current eligibility\n",
    "        if qty <= new_elig[bdr]:\n",
    "            \n",
    "            \n",
    "            #process bid if...\n",
    "            # no change in demand\n",
    "            if processed[bdr][pcl][0] == qty:\n",
    "                print('no change in demand for this parcel by this bidder: will be fully processed')\n",
    "            \n",
    "                new_elig[bdr] -= qty  \n",
    "                numprocessed +=1\n",
    "                if prc > closing[pcl]: \n",
    "                    closing[pcl] = prc   \n",
    "                \n",
    "            # \n",
    "            \n",
    "            elif processed[bdr][pcl][0] - qty <= excess[pcl]:\n",
    "                print('reduction in demand is covered by excess demand: bid will be fully processed')\n",
    "            \n",
    "                excess[pcl] -= (processed[bdr][pcl][0] - qty)   # reduce excess demand for this parcel\n",
    "                new_elig[bdr] -= qty   # reduce bidder's eligibility\n",
    "                numprocessed +=1\n",
    "                if prc > closing[pcl]:\n",
    "                    closing[pcl] = prc  # raise the new closing price for the parcel if this bid is higher    \n",
    "                #recalculated excess demand *and* decrement eligibility, updated posted price if needed\n",
    "            \n",
    "            elif processed[bdr][pcl][0] - qty > excess[pcl] and excess[pcl]>0: \n",
    "                print('reduction in demand is not fully covered by excess demand: bid will be partially processed')\n",
    "            \n",
    "                new_elig[bdr] -= excess[pcl]   # reduce bidder's eligibility\n",
    "                \n",
    "                excess[pcl] = 0   # reduce excess demand for this parcel\n",
    "                numprocessed +=1\n",
    "                if prc > closing[pcl]:\n",
    "                    closing[pcl] = prc  # raise the new closing price for the parcel if this bid is higher \n",
    "                    \n",
    "                newq.append(q)    \n",
    "                    \n",
    "                #recalculated excess demand, decrement eligibility, updated posted price if needed\n",
    "        \n",
    "            elif processed[bdr][pcl][0] - qty > excess[pcl] and excess[pcl]==0:\n",
    "                print('reduction in demand with no excess demand: bid will not be processed')\n",
    "            \n",
    "                new_elig[bdr] -= excess[pcl]   # reduce bidder's eligibility\n",
    "                \n",
    "                excess[pcl] = 0   # reduce excess demand for this parcel\n",
    "            \n",
    "                newq.append(q)\n",
    "                \n",
    "                if prc > closing[pcl]:\n",
    "                    closing[pcl] = prc  # raise the new closing price for the parcel if this bid is higher  \n",
    "                \n",
    "            # increase in demand is covered by bidder eligibility\n",
    "        \n",
    "            elif qty - processed[bdr][pcl][0]  < elg:\n",
    "                print('increase in demand is covered by bidder eligibility')\n",
    "        \n",
    "                excess[pcl] += (qty - processed[bdr][pcl][0])   # increase excess demand for this parcel\n",
    "                new_elig[bdr] -= qty   # reduce bidder's eligibility\n",
    "                numprocessed +=1\n",
    "                if prc > closing[pcl]:\n",
    "                    closing[pcl] = prc  # raise the new closing price for the parcel if this bid is higher \n",
    "        \n",
    "                #increased excess demand, decremented eligibility, updated posted price if needed\n",
    "    \n",
    "        else:\n",
    "            print(\"Bidder's eligibility is less than bid quantity - bid not processed\")\n",
    "        \n",
    "    \n",
    "        #at end of loop\n",
    "        #calculate next-round eligibility\n",
    "       \n",
    "        print()\n",
    "\n",
    "    \n",
    "    print('End of Queue Pass. Closing prices', closing, 'Demand', demand, 'Bids processed', numprocessed)\n",
    "    print()\n",
    "    \n",
    "    queue=[r for r in newq]\n",
    "    \n",
    "\n"
   ]
  },
  {
   "cell_type": "code",
   "execution_count": 89,
   "metadata": {},
   "outputs": [],
   "source": [
    "#calculate new posted prices\n",
    "#For each parcel:\n",
    "#   If excess supply, then posted price = prev round clock price\n",
    "#   If no excess supply, posted price is highest partially or fully processed price of a bid to reduce demand\n",
    "#   i.e. the price at which a bid caused demand to equal supply\n",
    "#   If no reduction in supply, same posted price as prev round"
   ]
  },
  {
   "cell_type": "code",
   "execution_count": 90,
   "metadata": {},
   "outputs": [],
   "source": [
    "#output from q loop should inlude:\n",
    "#   new eligibility for each bidder\n",
    "#   posted price for each parcel\n",
    "#   demand for each parcel"
   ]
  },
  {
   "cell_type": "code",
   "execution_count": 95,
   "metadata": {},
   "outputs": [
    {
     "name": "stdout",
     "output_type": "stream",
     "text": [
      "Output:\n",
      "\n",
      "Eligibility left over: [4, 7, 4]\n",
      "Next round Eligibility: [18, 15, 18]\n",
      "Posted closing prices: [12000, 7200, 7200, 4800]\n",
      "Demand: [14, 14, 16, 13]\n"
     ]
    }
   ],
   "source": [
    "\n",
    "print('Output:\\n')\n",
    "print('Eligibility left over:', new_elig)\n",
    "elig=[int(np.ceil((eligibility[idx]-new_elig[idx])/elig_percent)) for idx,e in enumerate(new_elig)]\n",
    "print('Next round Eligibility:', elig)\n",
    "print('Posted closing prices:', closing)\n",
    "print('Demand:', demand)\n",
    "if demand==supply: print('Demand equals Supply: Clock Phase Ends')"
   ]
  },
  {
   "cell_type": "code",
   "execution_count": null,
   "metadata": {},
   "outputs": [],
   "source": []
  },
  {
   "cell_type": "code",
   "execution_count": null,
   "metadata": {},
   "outputs": [],
   "source": []
  }
 ],
 "metadata": {
  "kernelspec": {
   "display_name": "Python 3",
   "language": "python",
   "name": "python3"
  },
  "language_info": {
   "codemirror_mode": {
    "name": "ipython",
    "version": 3
   },
   "file_extension": ".py",
   "mimetype": "text/x-python",
   "name": "python",
   "nbconvert_exporter": "python",
   "pygments_lexer": "ipython3",
   "version": "3.6.4"
  }
 },
 "nbformat": 4,
 "nbformat_minor": 2
}
