{
 "cells": [
  {
   "cell_type": "code",
   "execution_count": 94,
   "metadata": {},
   "outputs": [],
   "source": [
    "import numpy as np\n",
    "import random as rnd\n",
    "import itertools as it"
   ]
  },
  {
   "cell_type": "code",
   "execution_count": 59,
   "metadata": {},
   "outputs": [],
   "source": [
    "# In a real round, all of the input in this cell would be read in from the blockchain\n",
    "# This would only be done after a check to make sure that the round had been closed\n",
    "\n",
    "# Processed bids from the previous round\n",
    "wins=[[[4,16000],[4,10000],[2,8000],[1,7000]],\\\n",
    "    [[4,16000],[4,10000],[3,8000],[1,7000]],\\\n",
    "    [[2,16000],[3,10000],[4,8000],[4,7000]]]\n",
    "\n",
    "round=0  # One round per geo parcel. Round 0 = Elbograd\n",
    "\n",
    "numbidders=3\n",
    "\n",
    "eligibility=[20,20,20,20]\n",
    "bidders=['A-Telecom','B-Net','C-Mobile']\n",
    "parcels=['Elbograd','Mudberg','Deserton','Phlimsk']\n",
    "\n",
    "supply=[10,10,9,6]\n",
    "\n",
    "bids=[[0 for r in range(supply[round])] for b in bidders]"
   ]
  },
  {
   "cell_type": "code",
   "execution_count": 67,
   "metadata": {},
   "outputs": [],
   "source": [
    "# impairment = [int(np.round(np.power(rnd.random()/8,4)*1000,2)*100) for r in range(supply[round])]"
   ]
  },
  {
   "cell_type": "code",
   "execution_count": 68,
   "metadata": {},
   "outputs": [
    {
     "data": {
      "text/plain": [
       "[1, 0, 2, 15, 11, 2, 17, 0, 1, 18]"
      ]
     },
     "execution_count": 68,
     "metadata": {},
     "output_type": "execute_result"
    }
   ],
   "source": [
    "impairment"
   ]
  },
  {
   "cell_type": "code",
   "execution_count": 89,
   "metadata": {},
   "outputs": [
    {
     "data": {
      "text/plain": [
       "[[470, 20, 460, 740, 890, 620, 840, 200, 210, 730],\n",
       " [800, 440, 890, 300, 930, 200, 740, 310, 220, 410],\n",
       " [230, 80, 810, 530, 170, 90, 440, 660, 690, 100]]"
      ]
     },
     "execution_count": 89,
     "metadata": {},
     "output_type": "execute_result"
    }
   ],
   "source": [
    "#bids = [[int(np.round(rnd.random()*1000,-1)) for r in range(supply[round])] for b in range(numbidders)]\n",
    "bids"
   ]
  },
  {
   "cell_type": "code",
   "execution_count": 91,
   "metadata": {},
   "outputs": [
    {
     "data": {
      "text/plain": [
       "[470, 20, 460, 740, 890, 620, 840, 200, 210, 730]"
      ]
     },
     "execution_count": 91,
     "metadata": {},
     "output_type": "execute_result"
    }
   ],
   "source": [
    "bids[0]  # bids from bidder 0"
   ]
  },
  {
   "cell_type": "code",
   "execution_count": 273,
   "metadata": {},
   "outputs": [
    {
     "data": {
      "text/plain": [
       "[4, 4, 2]"
      ]
     },
     "execution_count": 273,
     "metadata": {},
     "output_type": "execute_result"
    }
   ],
   "source": [
    "# Number of licenses won by each bidder for the parcel in this round\n",
    "\n",
    "wns=[wins[i][round][0] for i in range(numbidders)] \n",
    "wns"
   ]
  },
  {
   "cell_type": "code",
   "execution_count": 185,
   "metadata": {},
   "outputs": [
    {
     "data": {
      "text/plain": [
       "[(0, 1, 2), (0, 2, 1), (1, 0, 2), (1, 2, 0), (2, 0, 1), (2, 1, 0)]"
      ]
     },
     "execution_count": 185,
     "metadata": {},
     "output_type": "execute_result"
    }
   ],
   "source": [
    "# Calculate permutations of ordering license assignments by bidder\n",
    "# Note that in a three-bidder auction, we could simply hardcode the permutations:\n",
    "#  [(0, 1, 2), (0, 2, 1), (1, 0, 2), (1, 2, 0), (2, 0, 1), (2, 1, 0)]\n",
    "\n",
    "q = [s for s in it.permutations(range(numbidders), numbidders)]\n",
    "q"
   ]
  },
  {
   "cell_type": "code",
   "execution_count": 279,
   "metadata": {},
   "outputs": [
    {
     "name": "stdout",
     "output_type": "stream",
     "text": [
      "\n",
      "Permutation 0 (0, 1, 2)\n",
      "bidder 0 ,  4 licenses\n",
      "bid 470\n",
      "bid 20\n",
      "bid 460\n",
      "bid 740\n",
      "bidder 1 ,  4 licenses\n",
      "bid 930\n",
      "bid 200\n",
      "bid 740\n",
      "bid 310\n",
      "bidder 2 ,  2 licenses\n",
      "bid 690\n",
      "bid 100\n",
      "Cumulative Total for this permutation 4660\n",
      "\n",
      "Permutation 1 (0, 2, 1)\n",
      "bidder 0 ,  4 licenses\n",
      "bid 470\n",
      "bid 20\n",
      "bid 460\n",
      "bid 740\n",
      "bidder 2 ,  2 licenses\n",
      "bid 170\n",
      "bid 90\n",
      "bidder 1 ,  4 licenses\n",
      "bid 740\n",
      "bid 310\n",
      "bid 220\n",
      "bid 410\n",
      "Cumulative Total for this permutation 3630\n",
      "\n",
      "Permutation 2 (1, 0, 2)\n",
      "bidder 1 ,  4 licenses\n",
      "bid 800\n",
      "bid 440\n",
      "bid 890\n",
      "bid 300\n",
      "bidder 0 ,  4 licenses\n",
      "bid 890\n",
      "bid 620\n",
      "bid 840\n",
      "bid 200\n",
      "bidder 2 ,  2 licenses\n",
      "bid 690\n",
      "bid 100\n",
      "Cumulative Total for this permutation 5770\n",
      "\n",
      "Permutation 3 (1, 2, 0)\n",
      "bidder 1 ,  4 licenses\n",
      "bid 800\n",
      "bid 440\n",
      "bid 890\n",
      "bid 300\n",
      "bidder 2 ,  2 licenses\n",
      "bid 170\n",
      "bid 90\n",
      "bidder 0 ,  4 licenses\n",
      "bid 840\n",
      "bid 200\n",
      "bid 210\n",
      "bid 730\n",
      "Cumulative Total for this permutation 4670\n",
      "\n",
      "Permutation 4 (2, 0, 1)\n",
      "bidder 2 ,  2 licenses\n",
      "bid 230\n",
      "bid 80\n",
      "bidder 0 ,  4 licenses\n",
      "bid 460\n",
      "bid 740\n",
      "bid 890\n",
      "bid 620\n",
      "bidder 1 ,  4 licenses\n",
      "bid 740\n",
      "bid 310\n",
      "bid 220\n",
      "bid 410\n",
      "Cumulative Total for this permutation 4700\n",
      "\n",
      "Permutation 5 (2, 1, 0)\n",
      "bidder 2 ,  2 licenses\n",
      "bid 230\n",
      "bid 80\n",
      "bidder 1 ,  4 licenses\n",
      "bid 890\n",
      "bid 300\n",
      "bid 930\n",
      "bid 200\n",
      "bidder 0 ,  4 licenses\n",
      "bid 840\n",
      "bid 200\n",
      "bid 210\n",
      "bid 730\n",
      "Cumulative Total for this permutation 4610\n"
     ]
    }
   ],
   "source": [
    "v=[]\n",
    "lic='abcdefghij'\n",
    "wnr=[]\n",
    "\n",
    "for perm in range(len(q)):\n",
    "    i=0\n",
    "    v.append(0)\n",
    "    print()\n",
    "    print('Permutation', perm, q[perm])\n",
    "    for a in range(len(q[perm])):\n",
    "        print('bidder', q[perm][a], ', ' , wns[q[perm][a]], 'licenses')\n",
    "        for b in range(wns[q[perm][a]]):\n",
    "            v[perm] += bids[q[perm][a]][i]\n",
    "            print('bid', bids[q[perm][a]][i])\n",
    "            i += 1\n",
    "            wnr.append(q[perm][a])\n",
    "    print('Cumulative Total for this permutation', v[perm]) \n",
    "    "
   ]
  },
  {
   "cell_type": "code",
   "execution_count": 152,
   "metadata": {},
   "outputs": [
    {
     "data": {
      "text/plain": [
       "[4660, 3630, 5770, 4670, 4700, 4610]"
      ]
     },
     "execution_count": 152,
     "metadata": {},
     "output_type": "execute_result"
    }
   ],
   "source": [
    "v"
   ]
  },
  {
   "cell_type": "code",
   "execution_count": 187,
   "metadata": {},
   "outputs": [
    {
     "name": "stdout",
     "output_type": "stream",
     "text": [
      "winning total 5770 permutation index 5\n",
      "license group ordering (2, 1, 0)\n"
     ]
    },
    {
     "data": {
      "text/plain": [
       "[3630, 4610, 4660, 4670, 4700, 5770]"
      ]
     },
     "execution_count": 187,
     "metadata": {},
     "output_type": "execute_result"
    }
   ],
   "source": [
    "maxv = max(v)\n",
    "maxidx = v.index(maxv)\n",
    "print('winning total', maxv, 'permutation index', maxidx)\n",
    "print('license group ordering', q[maxidx])\n",
    "v.sort()\n",
    "v"
   ]
  },
  {
   "cell_type": "code",
   "execution_count": 159,
   "metadata": {},
   "outputs": [],
   "source": [
    "lic='abcdefghij'"
   ]
  },
  {
   "cell_type": "code",
   "execution_count": 200,
   "metadata": {
    "scrolled": true
   },
   "outputs": [
    {
     "name": "stdout",
     "output_type": "stream",
     "text": [
      "Bidder A-Telecom Price\n",
      "Bidder B-Net Price\n",
      "Bidder C-Mobile No charge\n"
     ]
    }
   ],
   "source": [
    "for b in range(numbidders-1):\n",
    "    print('Bidder', bidders[b], 'Price')\n",
    "    \n",
    "print('Bidder', bidders[numbidders-1], 'No charge')"
   ]
  },
  {
   "cell_type": "code",
   "execution_count": 177,
   "metadata": {},
   "outputs": [],
   "source": [
    "assignments = [wnr[i:i + supply[round]] for i in range(0, len(wnr), supply[round])]"
   ]
  },
  {
   "cell_type": "code",
   "execution_count": 178,
   "metadata": {},
   "outputs": [
    {
     "data": {
      "text/plain": [
       "[1, 1, 1, 1, 0, 0, 0, 0, 2, 2]"
      ]
     },
     "execution_count": 178,
     "metadata": {},
     "output_type": "execute_result"
    }
   ],
   "source": [
    "assignments[maxidx]"
   ]
  },
  {
   "cell_type": "code",
   "execution_count": 190,
   "metadata": {},
   "outputs": [
    {
     "name": "stdout",
     "output_type": "stream",
     "text": [
      "license a winner C-Mobile\n",
      "license b winner C-Mobile\n",
      "license c winner B-Net\n",
      "license d winner B-Net\n",
      "license e winner B-Net\n",
      "license f winner B-Net\n",
      "license g winner A-Telecom\n",
      "license h winner A-Telecom\n",
      "license i winner A-Telecom\n",
      "license j winner A-Telecom\n"
     ]
    }
   ],
   "source": [
    "for a in range(len(assignments[maxidx])):\n",
    "     print('license', lic[a], 'winner', bidders[assignments[maxidx][a]])\n"
   ]
  },
  {
   "cell_type": "code",
   "execution_count": 206,
   "metadata": {},
   "outputs": [
    {
     "data": {
      "text/plain": [
       "[[470, 20, 460, 740, 890, 620, 840, 200, 210, 730],\n",
       " [800, 440, 890, 300, 930, 200, 740, 310, 220, 410],\n",
       " [230, 80, 810, 530, 170, 90, 440, 660, 690, 100]]"
      ]
     },
     "execution_count": 206,
     "metadata": {},
     "output_type": "execute_result"
    }
   ],
   "source": [
    "bids"
   ]
  },
  {
   "cell_type": "code",
   "execution_count": 208,
   "metadata": {},
   "outputs": [
    {
     "data": {
      "text/plain": [
       "6"
      ]
     },
     "execution_count": 208,
     "metadata": {},
     "output_type": "execute_result"
    }
   ],
   "source": [
    "assignments[maxidx].index(0)"
   ]
  },
  {
   "cell_type": "code",
   "execution_count": 207,
   "metadata": {},
   "outputs": [
    {
     "data": {
      "text/plain": [
       "[2, 2, 1, 1, 1, 1, 0, 0, 0, 0]"
      ]
     },
     "execution_count": 207,
     "metadata": {},
     "output_type": "execute_result"
    }
   ],
   "source": [
    "assignments[maxidx]"
   ]
  },
  {
   "cell_type": "code",
   "execution_count": 252,
   "metadata": {},
   "outputs": [
    {
     "data": {
      "text/plain": [
       "[0, 2]"
      ]
     },
     "execution_count": 252,
     "metadata": {},
     "output_type": "execute_result"
    }
   ],
   "source": [
    "impairment[1:3]"
   ]
  },
  {
   "cell_type": "code",
   "execution_count": 262,
   "metadata": {},
   "outputs": [
    {
     "name": "stdout",
     "output_type": "stream",
     "text": [
      "[0, 32000, 240000, 176000, 32000]\n"
     ]
    }
   ],
   "source": [
    "print([i*wins[0][0][1] for i in impairment[1:6]])"
   ]
  },
  {
   "cell_type": "code",
   "execution_count": 261,
   "metadata": {},
   "outputs": [
    {
     "data": {
      "text/plain": [
       "16000"
      ]
     },
     "execution_count": 261,
     "metadata": {},
     "output_type": "execute_result"
    }
   ],
   "source": [
    "wins[0][0][1]"
   ]
  },
  {
   "cell_type": "code",
   "execution_count": 268,
   "metadata": {},
   "outputs": [
    {
     "name": "stdout",
     "output_type": "stream",
     "text": [
      "\n",
      "bidder A-Telecom\n",
      "bids [470, 20, 460, 740, 890, 620, 840, 200, 210, 730]\n",
      "bids for channels won [840, 200, 210, 730] sum 1980\n",
      "impairment for channels won [17, 0, 1, 18]\n",
      "channel base price 16000\n",
      "channel prices discounted for impairment [13280, 16000, 15840, 13120]\n",
      "\n",
      "bidder B-Net\n",
      "bids [800, 440, 890, 300, 930, 200, 740, 310, 220, 410]\n",
      "bids for channels won [890, 300, 930, 200] sum 2320\n",
      "impairment for channels won [2, 15, 11, 2]\n",
      "channel base price 16000\n",
      "channel prices discounted for impairment [15680, 13600, 14240, 15680]\n",
      "\n",
      "bidder C-Mobile\n",
      "bids [230, 80, 810, 530, 170, 90, 440, 660, 690, 100]\n",
      "bids for channels won [230, 80] sum 310\n",
      "impairment for channels won [1, 0]\n",
      "channel base price 16000\n",
      "channel prices discounted for impairment [15840, 16000]\n",
      "\n",
      " [[1980, 'A-Telecom'], [2320, 'B-Net'], [310, 'C-Mobile']]\n"
     ]
    }
   ],
   "source": [
    "bidq=[]\n",
    "\n",
    "for b in range(numbidders):\n",
    "    bidtot=bids[assignments[maxidx].index(b):assignments[maxidx].index(b)+wns[b]]\n",
    "    print('\\nbidder', bidders[b])\n",
    "    print('bids', bids[b])\n",
    "    start = assignments[maxidx].index(b)\n",
    "    end = assignments[maxidx].index(b)+wns[b]\n",
    "    bidsum = sum(bids[b][start:end])\n",
    "    bidq.append([bidsum, bidders[b]])\n",
    "    print('bids for channels won', bids[b][start:end], 'sum', bidsum)\n",
    "    print('impairment for channels won', impairment[start:end])\n",
    "    print('channel base price', wins[0][round][1])\n",
    "    adjprice=[int((1-i/100)*wins[0][round][1]) for i in impairment[start:end]]\n",
    "    print('channel prices discounted for impairment', adjprice)\n",
    "    \n",
    "print('\\n',bidq)    \n"
   ]
  },
  {
   "cell_type": "code",
   "execution_count": 271,
   "metadata": {},
   "outputs": [
    {
     "data": {
      "text/plain": [
       "[[2320, 'B-Net'], [1980, 'A-Telecom'], [310, 'C-Mobile']]"
      ]
     },
     "execution_count": 271,
     "metadata": {},
     "output_type": "execute_result"
    }
   ],
   "source": [
    "bidq.sort(reverse=True)\n",
    "bidq"
   ]
  },
  {
   "cell_type": "code",
   "execution_count": 272,
   "metadata": {},
   "outputs": [
    {
     "name": "stdout",
     "output_type": "stream",
     "text": [
      "Assignment Charges\n",
      "\n",
      "Bidder B-Net pays 1980\n",
      "Bidder A-Telecom pays 310\n",
      "Bidder C-Mobile no charge\n"
     ]
    }
   ],
   "source": [
    "print('Assignment Charges\\n')\n",
    "\n",
    "for b in range(numbidders-1):\n",
    "    print('Bidder', bidq[b][1],'pays', bidq[b+1][0])\n",
    "    \n",
    "print('Bidder', bidq[numbidders-1][1], 'no charge')"
   ]
  },
  {
   "cell_type": "code",
   "execution_count": null,
   "metadata": {},
   "outputs": [],
   "source": []
  }
 ],
 "metadata": {
  "kernelspec": {
   "display_name": "Python 3",
   "language": "python",
   "name": "python3"
  },
  "language_info": {
   "codemirror_mode": {
    "name": "ipython",
    "version": 3
   },
   "file_extension": ".py",
   "mimetype": "text/x-python",
   "name": "python",
   "nbconvert_exporter": "python",
   "pygments_lexer": "ipython3",
   "version": "3.6.4"
  }
 },
 "nbformat": 4,
 "nbformat_minor": 2
}
